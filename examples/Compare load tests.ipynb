{
 "cells": [
  {
   "cell_type": "markdown",
   "metadata": {},
   "source": [
    "# Compare two load tests\n",
    "\n",
    "This notebook compares the results of two load tests to analyze performance differences\n",
    "It helps identify changes in response times, throughput, and error rates between test runs\n",
    "Useful for evaluating the impact of code changes or configuration updates on system performance"
   ]
  },
  {
   "cell_type": "code",
   "execution_count": null,
   "metadata": {},
   "outputs": [],
   "source": [
    "from llmeter.experiments import LoadTestResult"
   ]
  },
  {
   "cell_type": "markdown",
   "metadata": {},
   "source": [
    "## Load test results\n",
    "\n",
    "Add the path to the saved results of load tests. You can also update the names associated with each test to simplify the legend of the generated plots"
   ]
  },
  {
   "cell_type": "code",
   "execution_count": null,
   "metadata": {},
   "outputs": [],
   "source": [
    "# Test A\n",
    "load_test_a_path = None\n",
    "load_test_a_name = \"Test A\"\n",
    "\n",
    "# Test B\n",
    "load_test_b_path = None\n",
    "load_test_b_name = \"Test B\""
   ]
  },
  {
   "cell_type": "code",
   "execution_count": null,
   "metadata": {},
   "outputs": [],
   "source": [
    "load_test_result_a = LoadTestResult.load(load_test_a_path, test_name=load_test_a_name)\n",
    "load_test_result_b = LoadTestResult.load(load_test_b_path, test_name=load_test_b_name)"
   ]
  },
  {
   "cell_type": "markdown",
   "metadata": {},
   "source": [
    "## Plot individual results"
   ]
  },
  {
   "cell_type": "code",
   "execution_count": null,
   "metadata": {},
   "outputs": [],
   "source": [
    "figures_a = load_test_result_a.plot_results(format=\"png\")\n",
    "figures_b = load_test_result_b.plot_results(format=\"png\")"
   ]
  },
  {
   "cell_type": "markdown",
   "metadata": {},
   "source": [
    "## Comparison"
   ]
  },
  {
   "cell_type": "code",
   "execution_count": null,
   "metadata": {},
   "outputs": [],
   "source": [
    "import plotly.express as px"
   ]
  },
  {
   "cell_type": "code",
   "execution_count": null,
   "metadata": {},
   "outputs": [],
   "source": [
    "c = {k: v.add_trace(figures_b[k].data[0]) for k, v in figures_a.items()}\n",
    "[v.update_layout(colorway=px.colors.sequential.Bluered) for k, v in c.items()]\n",
    "[v.show() for k, v in c.items()]"
   ]
  }
 ],
 "metadata": {
  "kernelspec": {
   "display_name": ".venv",
   "language": "python",
   "name": "python3"
  },
  "language_info": {
   "codemirror_mode": {
    "name": "ipython",
    "version": 3
   },
   "file_extension": ".py",
   "mimetype": "text/x-python",
   "name": "python",
   "nbconvert_exporter": "python",
   "pygments_lexer": "ipython3",
   "version": "3.11.6"
  }
 },
 "nbformat": 4,
 "nbformat_minor": 2
}
